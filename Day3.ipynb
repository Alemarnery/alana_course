{
 "cells": [
  {
   "cell_type": "code",
   "execution_count": 1,
   "metadata": {
    "pycharm": {
     "name": "#%%\n"
    }
   },
   "outputs": [],
   "source": [
    "import alanapy\n",
    "import credentials as cr\n",
    "token = cr.alana_token_open\n",
    "root_url = \"https://apps.alana.tech/open\"\n",
    "#root_url = \"http://127.0.0.1:8000/local\"\n",
    "myapi_ds = alanapy.Datasource(token=token, root_url=root_url)"
   ]
  },
  {
   "cell_type": "code",
   "execution_count": 2,
   "metadata": {
    "collapsed": false,
    "jupyter": {
     "outputs_hidden": false
    },
    "pycharm": {
     "name": "#%%\n"
    }
   },
   "outputs": [
    {
     "ename": "TypeError",
     "evalue": "Datasource.getWells() got an unexpected keyword argument 'field_name'",
     "output_type": "error",
     "traceback": [
      "\u001b[0;31m---------------------------------------------------------------------------\u001b[0m",
      "\u001b[0;31mTypeError\u001b[0m                                 Traceback (most recent call last)",
      "\u001b[1;32m/Users/alemar/Documents/alanaPy_course/Day3.ipynb Cell 3\u001b[0m line \u001b[0;36m1\n\u001b[0;32m----> <a href='vscode-notebook-cell:/Users/alemar/Documents/alanaPy_course/Day3.ipynb#W2sZmlsZQ%3D%3D?line=0'>1</a>\u001b[0m volve_wells \u001b[39m=\u001b[39m myapi_ds\u001b[39m.\u001b[39;49mgetWells(field_name\u001b[39m=\u001b[39;49m\u001b[39m\"\u001b[39;49m\u001b[39mVOLVE\u001b[39;49m\u001b[39m\"\u001b[39;49m)\n\u001b[1;32m      <a href='vscode-notebook-cell:/Users/alemar/Documents/alanaPy_course/Day3.ipynb#W2sZmlsZQ%3D%3D?line=1'>2</a>\u001b[0m volve_wells_list \u001b[39m=\u001b[39m \u001b[39mlist\u001b[39m(volve_wells\u001b[39m.\u001b[39mdf[\u001b[39m\"\u001b[39m\u001b[39mwell_name\u001b[39m\u001b[39m\"\u001b[39m])\n\u001b[1;32m      <a href='vscode-notebook-cell:/Users/alemar/Documents/alanaPy_course/Day3.ipynb#W2sZmlsZQ%3D%3D?line=2'>3</a>\u001b[0m volve_wells_list\n",
      "\u001b[0;31mTypeError\u001b[0m: Datasource.getWells() got an unexpected keyword argument 'field_name'"
     ]
    }
   ],
   "source": [
    "\n",
    "volve_wells = myapi_ds.getWells(field_name=\"VOLVE\")\n",
    "volve_wells_list = list(volve_wells.df[\"well_name\"])\n",
    "volve_wells_list"
   ]
  },
  {
   "cell_type": "code",
   "execution_count": null,
   "metadata": {
    "collapsed": false,
    "jupyter": {
     "outputs_hidden": false
    },
    "pycharm": {
     "name": "#%%\n"
    }
   },
   "outputs": [],
   "source": [
    "volve_wells_prod = myapi_ds.getMonthlyProduction(well_names=volve_wells_list)"
   ]
  },
  {
   "cell_type": "code",
   "execution_count": null,
   "metadata": {
    "collapsed": false,
    "jupyter": {
     "outputs_hidden": false
    },
    "pycharm": {
     "name": "#%%\n"
    }
   },
   "outputs": [],
   "source": [
    "volve_wells_prod.plot()"
   ]
  },
  {
   "cell_type": "code",
   "execution_count": null,
   "metadata": {
    "collapsed": false,
    "jupyter": {
     "outputs_hidden": false
    },
    "pycharm": {
     "name": "#%%\n"
    }
   },
   "outputs": [],
   "source": [
    "volve_wells_prod_agg = myapi_ds.getMonthlyProduction(well_names=volve_wells_list, should_aggregate=True)\n",
    "volve_wells_prod_agg.plot()"
   ]
  },
  {
   "cell_type": "code",
   "execution_count": null,
   "metadata": {},
   "outputs": [],
   "source": [
    "vm_wells = myapi_ds.getWells(field_name=\"LOMA CAMPANA\")"
   ]
  },
  {
   "cell_type": "code",
   "execution_count": null,
   "metadata": {
    "collapsed": false,
    "jupyter": {
     "outputs_hidden": false
    },
    "pycharm": {
     "name": "#%%\n"
    }
   },
   "outputs": [],
   "source": [
    "\n",
    "vm_wells_prod_lastval = myapi_ds.getMonthlyProduction(well_names=vm_wells.df[\"well_name\"].to_list(), only_last_values=True)\n",
    "vm_wells_prod_lastval.map(plot_type=\"circle\", circle_variable=\"oil_cum\")"
   ]
  },
  {
   "cell_type": "code",
   "execution_count": null,
   "metadata": {
    "collapsed": false,
    "jupyter": {
     "outputs_hidden": false
    },
    "pycharm": {
     "name": "#%%\n"
    }
   },
   "outputs": [],
   "source": [
    "vm_wells_prod_lastval.map(plot_type=\"circle\", circle_variable=\"gas_cum\", buble_color=\"red\")"
   ]
  },
  {
   "cell_type": "code",
   "execution_count": null,
   "metadata": {
    "collapsed": false,
    "jupyter": {
     "outputs_hidden": false
    },
    "pycharm": {
     "name": "#%%\n"
    }
   },
   "outputs": [],
   "source": [
    "vm_wells_prod_lastval.map(plot_type=\"circle\", circle_variable=\"wat_inj_cum\", buble_color=\"blue\")"
   ]
  },
  {
   "cell_type": "code",
   "execution_count": null,
   "metadata": {
    "collapsed": false,
    "jupyter": {
     "outputs_hidden": false
    },
    "pycharm": {
     "name": "#%%\n"
    }
   },
   "outputs": [],
   "source": [
    "vm_wells_prod_lastval.map(plot_type=\"circle\", circle_variable=\"wat_cum\", buble_color=\"blue\")"
   ]
  },
  {
   "cell_type": "code",
   "execution_count": null,
   "metadata": {
    "collapsed": false,
    "jupyter": {
     "outputs_hidden": false
    },
    "pycharm": {
     "name": "#%%\n"
    }
   },
   "outputs": [],
   "source": [
    "vm_wells_prod_lastval.df"
   ]
  },
  {
   "cell_type": "code",
   "execution_count": null,
   "metadata": {
    "collapsed": false,
    "jupyter": {
     "outputs_hidden": false
    },
    "pycharm": {
     "name": "#%%\n"
    }
   },
   "outputs": [],
   "source": []
  }
 ],
 "metadata": {
  "kernelspec": {
   "display_name": "Python 3 (ipykernel)",
   "language": "python",
   "name": "python3"
  },
  "language_info": {
   "codemirror_mode": {
    "name": "ipython",
    "version": 3
   },
   "file_extension": ".py",
   "mimetype": "text/x-python",
   "name": "python",
   "nbconvert_exporter": "python",
   "pygments_lexer": "ipython3",
   "version": "3.11.4"
  }
 },
 "nbformat": 4,
 "nbformat_minor": 4
}
